{
 "cells": [
  {
   "cell_type": "code",
   "execution_count": 11,
   "id": "6594dfb1",
   "metadata": {},
   "outputs": [],
   "source": [
    "%load_ext cython"
   ]
  },
  {
   "cell_type": "markdown",
   "id": "75fd7220",
   "metadata": {},
   "source": [
    "# Pure Python"
   ]
  },
  {
   "cell_type": "code",
   "execution_count": 1,
   "id": "60a15cb2",
   "metadata": {},
   "outputs": [],
   "source": [
    "import numpy as np"
   ]
  },
  {
   "cell_type": "code",
   "execution_count": 2,
   "id": "0dcbd391",
   "metadata": {},
   "outputs": [],
   "source": [
    "def gauss(A: np.ndarray):\n",
    "    \"\"\"\n",
    "    Implements a simplified version of Gauss elimination method\n",
    "\n",
    "    Parameters\n",
    "    ----------\n",
    "    A: numpy.ndarray\n",
    "        The augmented matrix for a system of linear equations\n",
    "\n",
    "    Returns\n",
    "    -------\n",
    "    A: numpy.ndarray\n",
    "        The augmented matrix in row echelon form\n",
    "    \"\"\"\n",
    "    m, n = A.shape\n",
    "\n",
    "    for i in range(m):\n",
    "        for j in range(i + 1, m):\n",
    "            A[j:] = A[j:] - (A[j, i] / A[i, i]) * A[i, :]\n",
    "    return A\n",
    "\n",
    "def backwards_substitution(A: np.ndarray):\n",
    "    \"\"\"\n",
    "    Back Substitution method for calculating the solutions of a matrix in row echelon form\n",
    "    Parameters\n",
    "    ----------\n",
    "    A: numpy.ndarray\n",
    "        A matrix in row echelon form\n",
    "    swaps: list\n",
    "        A list of tuples containing column swaps. These are necessary since each swap\n",
    "        changes the position of a solution, so, if we want to recover the original order\n",
    "        (x1, x2, ..., xn) we must pass explicitly this list of swaps.\n",
    "    rref: bool\n",
    "        If the input matrix is in reduced row echelon form simply take the last column.\n",
    "\n",
    "    Returns\n",
    "    -------\n",
    "    numpy.ndarray\n",
    "        An array containing the solutions to the system of linear equations\n",
    "    \"\"\"\n",
    "    m, n = A.shape\n",
    "    solutions = np.zeros(m)\n",
    "    solutions[m - 1] = A[m - 1, n - 1] / A[m - 1, n - 2]\n",
    "    for i in range(m - 2, -1, -1):\n",
    "        solutions[i] = (\n",
    "            A[i, n - 1] - np.dot(A[i, i + 1 : n - 1], solutions[i + 1 :])\n",
    "        ) / A[i, i]\n",
    "    return solutions\n",
    "\n",
    "\n",
    "def solve_system(A_augmented: np.ndarray):\n",
    "    return backwards_substitution(gauss(A_augmented))"
   ]
  },
  {
   "cell_type": "code",
   "execution_count": 3,
   "id": "0a9a02d0",
   "metadata": {},
   "outputs": [],
   "source": [
    "A = np.array([[2.0, -1.0, 1.0], [-1.0, 1.0, 2.0], [1.0, 2.0, -1.0]])\n",
    "b = np.array([[3.0], [7.0], [2.0]])\n",
    "A_augmented = np.concatenate([A, b], axis=1)"
   ]
  },
  {
   "cell_type": "code",
   "execution_count": 4,
   "id": "70bd13a3",
   "metadata": {},
   "outputs": [
    {
     "data": {
      "text/plain": [
       "array([1., 2., 3.])"
      ]
     },
     "execution_count": 4,
     "metadata": {},
     "output_type": "execute_result"
    }
   ],
   "source": [
    "solve_system(A_augmented)"
   ]
  },
  {
   "cell_type": "code",
   "execution_count": 5,
   "id": "269a7501",
   "metadata": {
    "scrolled": true
   },
   "outputs": [
    {
     "name": "stdout",
     "output_type": "stream",
     "text": [
      "8.62 µs ± 54.4 ns per loop (mean ± std. dev. of 7 runs, 100,000 loops each)\n"
     ]
    }
   ],
   "source": [
    "%%timeit\n",
    "solve_system(A_augmented)"
   ]
  },
  {
   "cell_type": "markdown",
   "id": "aa9f3828",
   "metadata": {},
   "source": [
    "# Cython"
   ]
  },
  {
   "cell_type": "code",
   "execution_count": 20,
   "id": "69b67d47",
   "metadata": {
    "scrolled": false
   },
   "outputs": [],
   "source": [
    "%%cython\n",
    "\n",
    "import cython\n",
    "import numpy as np\n",
    "\n",
    "@cython.boundscheck(False)\n",
    "@cython.wraparound(False)\n",
    "@cython.cdivision(True)\n",
    "cdef gauss(double[:, ::1] A):\n",
    "    \"\"\"\n",
    "    Implements a simplified version of Gauss elimination method\n",
    "\n",
    "    Parameters\n",
    "    ----------\n",
    "    A: numpy.ndarray\n",
    "        The augmented matrix for a system of linear equations\n",
    "\n",
    "    Returns\n",
    "    -------\n",
    "    A: numpy.ndarray\n",
    "        The augmented matrix in row echelon form\n",
    "    \"\"\"\n",
    "    cdef:\n",
    "        int i, j, k\n",
    "        int m = A.shape[0]\n",
    "        int n = A.shape[1]\n",
    "\n",
    "    for i in range(m):\n",
    "        for j in range(i + 1, m):\n",
    "            for k in range(n):\n",
    "                A[j, k] = A[j, k] - (A[j, i] / A[i, i]) * A[i, k]\n",
    "                \n",
    "    return A\n",
    "\n",
    "\n",
    "@cython.boundscheck(False)\n",
    "@cython.wraparound(False)\n",
    "@cython.cdivision(True)\n",
    "cdef backwards_substitution(double[:, ::1] A):\n",
    "    \"\"\"\n",
    "    Back Substitution method for calculating the solutions of a matrix in row echelon form\n",
    "    Parameters\n",
    "    ----------\n",
    "    A: numpy.ndarray\n",
    "        A matrix in row echelon form\n",
    "    swaps: list\n",
    "        A list of tuples containing column swaps. These are necessary since each swap\n",
    "        changes the position of a solution, so, if we want to recover the original order\n",
    "        (x1, x2, ..., xn) we must pass explicitly this list of swaps.\n",
    "    rref: bool\n",
    "        If the input matrix is in reduced row echelon form simply take the last column.\n",
    "\n",
    "    Returns\n",
    "    -------\n",
    "    numpy.ndarray\n",
    "        An array containing the solutions to the system of linear equations\n",
    "    \"\"\"\n",
    "    cdef:\n",
    "        int i, j\n",
    "        int m = A.shape[0]\n",
    "        int n = A.shape[1]\n",
    "        double dot_product\n",
    "        double[::1] solutions = np.zeros(m)\n",
    "        \n",
    "    solutions[m - 1] = A[m - 1, n - 1] / A[m - 1, n - 2]\n",
    "    \n",
    "    for i in range(m - 2, -1, -1):\n",
    "        dot_product = 0\n",
    "        for j in range(i + 1, n - 1):\n",
    "            dot_product += A[i, j] * solutions[j]\n",
    "        solutions[i] = (A[i, n - 1] - dot_product) / A[i, i]\n",
    "    return np.array(solutions)\n",
    "\n",
    "@cython.boundscheck(False)\n",
    "@cython.wraparound(False)\n",
    "@cython.cdivision(True)\n",
    "def solve_system_cython(double[:, ::1] A_augmented):\n",
    "    return backwards_substitution(gauss(A_augmented))"
   ]
  },
  {
   "cell_type": "code",
   "execution_count": 21,
   "id": "a6dfbd81",
   "metadata": {
    "scrolled": true
   },
   "outputs": [
    {
     "name": "stdout",
     "output_type": "stream",
     "text": [
      "967 ns ± 9.74 ns per loop (mean ± std. dev. of 7 runs, 1,000,000 loops each)\n"
     ]
    }
   ],
   "source": [
    "%%timeit\n",
    "solve_system_cython(A_augmented)"
   ]
  }
 ],
 "metadata": {
  "kernelspec": {
   "display_name": "Python 3 (ipykernel)",
   "language": "python",
   "name": "python3"
  },
  "language_info": {
   "codemirror_mode": {
    "name": "ipython",
    "version": 3
   },
   "file_extension": ".py",
   "mimetype": "text/x-python",
   "name": "python",
   "nbconvert_exporter": "python",
   "pygments_lexer": "ipython3",
   "version": "3.9.13"
  }
 },
 "nbformat": 4,
 "nbformat_minor": 5
}
